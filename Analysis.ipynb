{
 "cells": [
  {
   "cell_type": "code",
   "execution_count": null,
   "metadata": {},
   "outputs": [],
   "source": [
    "#compare results from llm and from cnn\n",
    "import numpy as np\n",
    "import pandas as pd\n",
    "import json"
   ]
  },
  {
   "cell_type": "code",
   "execution_count": null,
   "metadata": {},
   "outputs": [],
   "source": [
    "promptOne = pd.read_csv(r'C:\\Users\\hagraham\\OneDrive\\Northwestern\\458GeneralAI\\Project\\Results\\LLMResults\\api_responses.csv')\n",
    "prompt2 = pd.read_csv(r'C:\\Users\\hagraham\\OneDrive\\Northwestern\\458GeneralAI\\Project\\Results\\LLMResults\\second_prompt.csv')\n",
    "\n",
    "cnnResults = pd.read_csv(r'C:\\Users\\hagraham\\OneDrive\\Northwestern\\458GeneralAI\\Project\\Results\\CNNresults.csv')\n",
    "\n",
    "#labels\n",
    "labes = pd.read_csv(r'C:\\Users\\hagraham\\OneDrive\\Northwestern\\458GeneralAI\\Project\\labels.csv')"
   ]
  },
  {
   "cell_type": "code",
   "execution_count": null,
   "metadata": {},
   "outputs": [],
   "source": [
    "promptOne_filtered = promptOne.iloc[:, :2]\n",
    "print(promptOne_filtered)"
   ]
  },
  {
   "cell_type": "code",
   "execution_count": null,
   "metadata": {},
   "outputs": [],
   "source": [
    "import json\n",
    "\n",
    "def extract_breed_name(response):\n",
    "    try:\n",
    "        response_json = json.loads(response.replace('```json\\n', '').replace('\\n```', ''))\n",
    "        return response_json.get('BreedName', None)\n",
    "    except json.JSONDecodeError:\n",
    "        return None\n",
    "\n",
    "promptOne_filtered['breed Name'] = promptOne_filtered['response'].apply(extract_breed_name)\n",
    "print(promptOne_filtered[['filename', 'breed Name']])"
   ]
  },
  {
   "cell_type": "code",
   "execution_count": null,
   "metadata": {},
   "outputs": [],
   "source": [
    "prompt2['breed Name'] = prompt2['response'].apply(extract_breed_name)"
   ]
  },
  {
   "cell_type": "code",
   "execution_count": null,
   "metadata": {},
   "outputs": [],
   "source": [
    "prompt2 = prompt2[['filename', 'breed Name']]"
   ]
  },
  {
   "cell_type": "code",
   "execution_count": null,
   "metadata": {},
   "outputs": [],
   "source": [
    "prompt2 = prompt2.rename(columns={'breed Name': 'prompt2Breed'})"
   ]
  },
  {
   "cell_type": "code",
   "execution_count": null,
   "metadata": {},
   "outputs": [],
   "source": [
    "prompt1 = promptOne_filtered[['filename', 'breed Name']]"
   ]
  },
  {
   "cell_type": "code",
   "execution_count": null,
   "metadata": {},
   "outputs": [],
   "source": [
    "prompt1 = prompt1.rename(columns={'breed Name': 'prompt1Breed'})"
   ]
  },
  {
   "cell_type": "code",
   "execution_count": null,
   "metadata": {},
   "outputs": [],
   "source": [
    "cnnResults = cnnResults.rename(columns={'id': 'filename', 'predicted_class_name': 'cnnBreed'})"
   ]
  },
  {
   "cell_type": "code",
   "execution_count": null,
   "metadata": {},
   "outputs": [],
   "source": [
    "cnnResults = cnnResults[['filename', 'cnnBreed']]"
   ]
  },
  {
   "cell_type": "code",
   "execution_count": null,
   "metadata": {},
   "outputs": [],
   "source": [
    "merged_results = prompt1.merge(prompt2, on='filename').merge(cnnResults, on='filename')\n",
    "print(merged_results)"
   ]
  },
  {
   "cell_type": "code",
   "execution_count": null,
   "metadata": {},
   "outputs": [],
   "source": [
    "# Drop the .jpg extension from the filename column\n",
    "merged_results['filename'] = merged_results['filename'].str.replace('.jpg', '')\n",
    "\n",
    "# Merge with labels dataframe on the id column\n",
    "final_merged_results = merged_results.merge(labes, left_on='filename', right_on='id')\n",
    "print(final_merged_results)"
   ]
  },
  {
   "cell_type": "code",
   "execution_count": null,
   "metadata": {
    "vscode": {
     "languageId": "shellscript"
    }
   },
   "outputs": [],
   "source": [
    "final_merged_results['prompt1Breed'] = final_merged_results['prompt1Breed'].str.lower().str.replace('_', ' ').str.replace('-', ' ')\n",
    "final_merged_results['prompt2Breed'] = final_merged_results['prompt2Breed'].str.lower().str.replace('_', ' ').str.replace('-', ' ')\n",
    "final_merged_results['cnnBreed'] = final_merged_results['cnnBreed'].str.lower().str.replace('_', ' ').str.replace('-', ' ')\n",
    "final_merged_results['breed'] = final_merged_results['breed'].str.lower().str.replace('_', ' ').str.replace('-', ' ')\n",
    "\n",
    "print(final_merged_results)"
   ]
  },
  {
   "cell_type": "code",
   "execution_count": null,
   "metadata": {
    "vscode": {
     "languageId": "shellscript"
    }
   },
   "outputs": [],
   "source": [
    "final_merged_results['prompt1Breed_match'] = final_merged_results['prompt1Breed'] == final_merged_results['breed']\n",
    "final_merged_results['prompt2Breed_match'] = final_merged_results['prompt2Breed'] == final_merged_results['breed']\n",
    "final_merged_results['cnnBreed_match'] = final_merged_results['cnnBreed'] == final_merged_results['breed']\n",
    "\n",
    "print(final_merged_results)"
   ]
  },
  {
   "cell_type": "code",
   "execution_count": null,
   "metadata": {},
   "outputs": [],
   "source": [
    "final_merged_results = final_merged_results[['filename', 'prompt1Breed', 'prompt1Breed_match', 'prompt2Breed', 'prompt2Breed_match', 'cnnBreed', 'cnnBreed_match', 'id', 'breed']]\n",
    "print(final_merged_results)"
   ]
  },
  {
   "cell_type": "code",
   "execution_count": null,
   "metadata": {
    "vscode": {
     "languageId": "shellscript"
    }
   },
   "outputs": [],
   "source": [
    "final_merged_results.to_csv('final_merged_results.csv', index=False)"
   ]
  }
 ],
 "metadata": {
  "kernelspec": {
   "display_name": "Python 3",
   "language": "python",
   "name": "python3"
  },
  "language_info": {
   "codemirror_mode": {
    "name": "ipython",
    "version": 3
   },
   "file_extension": ".py",
   "mimetype": "text/x-python",
   "name": "python",
   "nbconvert_exporter": "python",
   "pygments_lexer": "ipython3",
   "version": "3.11.9"
  }
 },
 "nbformat": 4,
 "nbformat_minor": 2
}
